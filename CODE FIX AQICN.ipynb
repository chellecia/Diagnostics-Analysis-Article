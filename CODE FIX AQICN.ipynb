{
 "cells": [
  {
   "cell_type": "markdown",
   "metadata": {},
   "source": [
    "### **IMPORT LIBRARIES**"
   ]
  },
  {
   "cell_type": "code",
   "execution_count": null,
   "metadata": {},
   "outputs": [],
   "source": [
    "import pandas as pd\n",
    "import matplotlib.pyplot as plt\n",
    "import seaborn as sns\n",
    "import folium\n",
    "from folium.plugins import MarkerCluster\n",
    "from IPython.display import display"
   ]
  },
  {
   "cell_type": "markdown",
   "metadata": {},
   "source": [
    "### **MERGED DATASET**"
   ]
  },
  {
   "cell_type": "code",
   "execution_count": 2,
   "metadata": {},
   "outputs": [],
   "source": [
    "# Load each dataset\n",
    "df1 = pd.read_csv(\"southjakarta_air_quality.csv\")\n",
    "df1[\"Location\"] = \"South Jakarta\"\n",
    "\n",
    "df2 = pd.read_csv(\"jakartaMarunda_air_quality.csv\")\n",
    "df2[\"Location\"] = \"Marunda, Jakarta Utara\"\n",
    "\n",
    "df3 = pd.read_csv(\"jakartakemayoran_air_quality.csv\")\n",
    "df3[\"Location\"] = \"Kemayoran, Jakarta Pusat\"\n",
    "\n",
    "df4 = pd.read_csv(\"jakartaGBK_air_quality.csv\")\n",
    "df4[\"Location\"] = \"Jakarta GBK\"\n",
    "\n",
    "df5 = pd.read_csv(\"BDNjakarta_air_quality.csv\")\n",
    "df5[\"Location\"] = \"Jalan BDN II, South Jakarta\"\n",
    "# Repeat for each dataset\n",
    "\n",
    "# Concatenate them\n",
    "data = pd.concat([df1, df2, df3, df4, df5], ignore_index=True)"
   ]
  },
  {
   "cell_type": "code",
   "execution_count": 3,
   "metadata": {},
   "outputs": [],
   "source": [
    "# Normalisasi nama parameter menjadi huruf besar\n",
    "data['Pollutant'] = data['Pollutant'].str.upper()\n"
   ]
  },
  {
   "cell_type": "markdown",
   "metadata": {},
   "source": [
    "### **PREPROCESSING & VISUALISASI**"
   ]
  },
  {
   "cell_type": "code",
   "execution_count": 4,
   "metadata": {},
   "outputs": [
    {
     "data": {
      "text/plain": [
       "0"
      ]
     },
     "execution_count": 4,
     "metadata": {},
     "output_type": "execute_result"
    }
   ],
   "source": [
    "data.duplicated().sum()"
   ]
  },
  {
   "cell_type": "code",
   "execution_count": 5,
   "metadata": {},
   "outputs": [],
   "source": [
    "data = data.drop(columns=[\"Avg\", \"Max\", \"Min\"])"
   ]
  },
  {
   "cell_type": "code",
   "execution_count": null,
   "metadata": {},
   "outputs": [
    {
     "name": "stdout",
     "output_type": "stream",
     "text": [
      "\n",
      "Rata-rata AQI per lokasi:\n"
     ]
    },
    {
     "data": {
      "text/html": [
       "<div>\n",
       "<style scoped>\n",
       "    .dataframe tbody tr th:only-of-type {\n",
       "        vertical-align: middle;\n",
       "    }\n",
       "\n",
       "    .dataframe tbody tr th {\n",
       "        vertical-align: top;\n",
       "    }\n",
       "\n",
       "    .dataframe thead th {\n",
       "        text-align: right;\n",
       "    }\n",
       "</style>\n",
       "<table border=\"1\" class=\"dataframe\">\n",
       "  <thead>\n",
       "    <tr style=\"text-align: right;\">\n",
       "      <th></th>\n",
       "      <th>Location</th>\n",
       "      <th>AQI</th>\n",
       "    </tr>\n",
       "  </thead>\n",
       "  <tbody>\n",
       "    <tr>\n",
       "      <th>0</th>\n",
       "      <td>Jakarta GBK</td>\n",
       "      <td>130.612022</td>\n",
       "    </tr>\n",
       "    <tr>\n",
       "      <th>1</th>\n",
       "      <td>Jalan BDN II, South Jakarta</td>\n",
       "      <td>83.071038</td>\n",
       "    </tr>\n",
       "    <tr>\n",
       "      <th>2</th>\n",
       "      <td>Kemayoran, Jakarta Pusat</td>\n",
       "      <td>175.000000</td>\n",
       "    </tr>\n",
       "    <tr>\n",
       "      <th>3</th>\n",
       "      <td>Marunda, Jakarta Utara</td>\n",
       "      <td>111.000000</td>\n",
       "    </tr>\n",
       "    <tr>\n",
       "      <th>4</th>\n",
       "      <td>South Jakarta</td>\n",
       "      <td>107.000000</td>\n",
       "    </tr>\n",
       "  </tbody>\n",
       "</table>\n",
       "</div>"
      ],
      "text/plain": [
       "                      Location         AQI\n",
       "0                  Jakarta GBK  130.612022\n",
       "1  Jalan BDN II, South Jakarta   83.071038\n",
       "2     Kemayoran, Jakarta Pusat  175.000000\n",
       "3       Marunda, Jakarta Utara  111.000000\n",
       "4                South Jakarta  107.000000"
      ]
     },
     "execution_count": 6,
     "metadata": {},
     "output_type": "execute_result"
    }
   ],
   "source": [
    "# Rata-rata AQI per lokasi\n",
    "aqi_lokasi = data.groupby('Location')['AQI'].mean().reset_index()\n",
    "print(\"\\nRata-rata AQI per lokasi:\")\n",
    "aqi_lokasi"
   ]
  },
  {
   "cell_type": "code",
   "execution_count": null,
   "metadata": {},
   "outputs": [
    {
     "name": "stdout",
     "output_type": "stream",
     "text": [
      "\n",
      "Rata-rata AQI per polutan:\n",
      "  Pollutant         AQI\n",
      "0        CO  130.612022\n",
      "1         H  111.000000\n",
      "2       NO2  130.612022\n",
      "3        O3  137.537341\n",
      "4       PM1  111.000000\n",
      "5      PM10  121.336612\n",
      "6      PM25  121.336612\n",
      "7       SO2  130.612022\n",
      "8         T  111.000000\n",
      "9       UVI  141.000000\n"
     ]
    },
    {
     "name": "stderr",
     "output_type": "stream",
     "text": [
      "C:\\Users\\Michelle\\AppData\\Local\\Temp\\ipykernel_70048\\2150845295.py:8: FutureWarning: \n",
      "\n",
      "Passing `palette` without assigning `hue` is deprecated and will be removed in v0.14.0. Assign the `y` variable to `hue` and set `legend=False` for the same effect.\n",
      "\n",
      "  sns.barplot(\n"
     ]
    },
    {
     "data": {
      "image/png": "[encoded data removed]",
      "text/plain": [
       "<Figure size 1000x600 with 1 Axes>"
      ]
     },
     "metadata": {},
     "output_type": "display_data"
    }
   ],
   "source": [
    "# Rata-rata AQI per polutan\n",
    "aqi_polutan = data.groupby('Pollutant')['AQI'].mean().reset_index()\n",
    "print(\"\\nRata-rata AQI per polutan:\")\n",
    "print(aqi_polutan)\n",
    "\n",
    "# Plotting\n",
    "plt.figure(figsize=(10, 6))\n",
    "sns.barplot(\n",
    "    x=\"AQI\",\n",
    "    y=\"Pollutant\",\n",
    "    data=aqi_polutan,\n",
    "    palette=\"coolwarm\",  # Warna gradasi dari dingin ke hangat berdasarkan AQI\n",
    "    edgecolor=\"black\"\n",
    ")\n",
    "\n",
    "# Menambahkan judul dan label\n",
    "plt.title(\"Rata-rata AQI per Polutan\", fontsize=16)\n",
    "plt.xlabel(\"Rata-rata AQI\")\n",
    "plt.ylabel(\"Polutan\")\n",
    "plt.xticks(fontsize=12)\n",
    "plt.yticks(fontsize=12)\n",
    "plt.grid(axis=\"x\", linestyle=\"--\", alpha=0.7)\n",
    "\n",
    "# Menampilkan plot\n",
    "plt.show()\n"
   ]
  },
  {
   "cell_type": "code",
   "execution_count": 8,
   "metadata": {},
   "outputs": [],
   "source": [
    "# Pastikan kolom Date dalam bentuk datetime\n",
    "data['Date'] = pd.to_datetime(data['Date'])\n",
    "\n",
    "# Kelompokkan data per Pollutant dan Location, lalu hitung rata-rata AQI\n",
    "pollutant_per_location = data.groupby(['Location', 'Pollutant'])['AQI'].mean().unstack()\n"
   ]
  },
  {
   "cell_type": "code",
   "execution_count": 9,
   "metadata": {},
   "outputs": [
    {
     "data": {
      "image/png": "[encoded data removed]",
      "text/plain": [
       "<Figure size 1000x600 with 2 Axes>"
      ]
     },
     "metadata": {},
     "output_type": "display_data"
    }
   ],
   "source": [
    "# Pastikan kolom Date dalam bentuk datetime\n",
    "data['Date'] = pd.to_datetime(data['Date'])\n",
    "\n",
    "# Kelompokkan data per Pollutant dan Location, lalu hitung rata-rata AQI\n",
    "pollutant_per_location = data.groupby(['Location', 'Pollutant'])['AQI'].mean().unstack()\n",
    "\n",
    "# Plot Heatmap dengan format integer\n",
    "plt.figure(figsize=(10, 6))\n",
    "sns.heatmap(pollutant_per_location, annot=True, fmt=\".0f\", cmap=\"YlOrRd\", linewidths=0.5, linecolor='gray')\n",
    "plt.title(\"Dominasi Pollutant per Lokasi\")\n",
    "plt.xlabel(\"Pollutant\")\n",
    "plt.ylabel(\"Location\")\n",
    "plt.show()\n"
   ]
  },
  {
   "cell_type": "code",
   "execution_count": null,
   "metadata": {},
   "outputs": [
    {
     "data": {
      "text/plain": [
       "'jakarta_aqi_map_with_wider_labels.html'"
      ]
     },
     "execution_count": 14,
     "metadata": {},
     "output_type": "execute_result"
    }
   ],
   "source": [
    "\n",
    "# Your AQI data\n",
    "data = [\n",
    "    {\"Location\": \"Jakarta GBK\", \"Latitude\": -6.2154998779296875, \"Longitude\": 106.8030014038086, \"AQI\": 131},\n",
    "    {\"Location\": \"Jalan BDN II, South Jakarta\", \"Latitude\": -6.280048383, \"Longitude\": 106.79944217205, \"AQI\": 83},\n",
    "    {\"Location\": \"Kemayoran, Jakarta Pusat\", \"Latitude\": -6.1603721, \"Longitude\": 106.8473377, \"AQI\": 175},\n",
    "    {\"Location\": \"Marunda, Jakarta Utara\", \"Latitude\":  -6.096574, \"Longitude\": 106.961349, \"AQI\": 111},\n",
    "    {\"Location\": \"South Jakarta\", \"Latitude\": -6.236704,  \"Longitude\": 106.79324, \"AQI\": 107}\n",
    "]\n",
    "\n",
    "# Creating the map\n",
    "jakarta_map = folium.Map(location=[-6.2, 106.85], zoom_start=11)\n",
    "\n",
    "# Adding markers with wider permanent labels with improved styling\n",
    "for entry in data:\n",
    "    # Marker for the location\n",
    "    folium.Marker(\n",
    "        location=[entry[\"Latitude\"], entry[\"Longitude\"]],\n",
    "        icon=folium.Icon(color=\"red\" if entry[\"AQI\"] > 100 else \"green\")\n",
    "    ).add_to(jakarta_map)\n",
    "    \n",
    "    # Adding a permanent label with bold text and wider background\n",
    "    folium.map.Marker(\n",
    "        [entry[\"Latitude\"], entry[\"Longitude\"]],\n",
    "        icon=folium.DivIcon(\n",
    "            html=f'<div style=\"font-size: 12px; color: black; font-weight: bold; background-color: white; '\n",
    "                 f'padding: 8px 16px 8px 8px; border: 1px solid black; border-radius: 10px; min-width: 220px; text-align: center;\">'\n",
    "                 f'{entry[\"Location\"]}<br>AQI: {entry[\"AQI\"]}</div>'\n",
    "        )\n",
    "    ).add_to(jakarta_map)\n",
    "\n",
    "# Saving the map with improved readability\n",
    "map_path_permanent_label = \"jakarta_aqi_map_with_wider_labels.html\"\n",
    "jakarta_map.save(map_path_permanent_label)\n",
    "\n",
    "# Output the path to the saved map\n",
    "map_path_permanent_label\n"
   ]
  },
  {
   "cell_type": "code",
   "execution_count": null,
   "metadata": {},
   "outputs": [
    {
     "data": {
      "text/html": [
       "<div style=\"width:100%;\"><div style=\"position:relative;width:100%;height:0;padding-bottom:60%;\"><span style=\"color:#565656\">Make this Notebook Trusted to load map: File -> Trust Notebook</span><iframe srcdoc=\"&lt;!DOCTYPE html&gt;\n",
       "&lt;html&gt;\n",
       "&lt;head&gt;\n",
       "    \n",
       "    &lt;meta http-equiv=&quot;content-type&quot; content=&quot;text/html; charset=UTF-8&quot; /&gt;\n",
       "    \n",
       "        &lt;script&gt;\n",
       "            L_NO_TOUCH = false;\n",
       "            L_DISABLE_3D = false;\n",
       "        &lt;/script&gt;\n",
       "    \n",
       "    &lt;style&gt;html, body {width: 100%;height: 100%;margin: 0;padding: 0;}&lt;/style&gt;\n",
       "    &lt;style&gt;#map {position:absolute;top:0;bottom:0;right:0;left:0;}&lt;/style&gt;\n",
       "    &lt;script src=&quot;https://cdn.jsdelivr.net/npm/leaflet@1.9.3/dist/leaflet.js&quot;&gt;&lt;/script&gt;\n",
       "    &lt;script src=&quot;https://code.jquery.com/jquery-3.7.1.min.js&quot;&gt;&lt;/script&gt;\n",
       "    &lt;script src=&quot;https://cdn.jsdelivr.net/npm/bootstrap@5.2.2/dist/js/bootstrap.bundle.min.js&quot;&gt;&lt;/script&gt;\n",
       "    &lt;script src=&quot;https://cdnjs.cloudflare.com/ajax/libs/Leaflet.awesome-markers/2.0.2/leaflet.awesome-markers.js&quot;&gt;&lt;/script&gt;\n",
       "    &lt;link rel=&quot;stylesheet&quot; href=&quot;https://cdn.jsdelivr.net/npm/leaflet@1.9.3/dist/leaflet.css&quot;/&gt;\n",
       "    &lt;link rel=&quot;stylesheet&quot; href=&quot;https://cdn.jsdelivr.net/npm/bootstrap@5.2.2/dist/css/bootstrap.min.css&quot;/&gt;\n",
       "    &lt;link rel=&quot;stylesheet&quot; href=&quot;https://netdna.bootstrapcdn.com/bootstrap/3.0.0/css/bootstrap-glyphicons.css&quot;/&gt;\n",
       "    &lt;link rel=&quot;stylesheet&quot; href=&quot;https://cdn.jsdelivr.net/npm/@fortawesome/fontawesome-free@6.2.0/css/all.min.css&quot;/&gt;\n",
       "    &lt;link rel=&quot;stylesheet&quot; href=&quot;https://cdnjs.cloudflare.com/ajax/libs/Leaflet.awesome-markers/2.0.2/leaflet.awesome-markers.css&quot;/&gt;\n",
       "    &lt;link rel=&quot;stylesheet&quot; href=&quot;https://cdn.jsdelivr.net/gh/python-visualization/folium/folium/templates/leaflet.awesome.rotate.min.css&quot;/&gt;\n",
       "    \n",
       "            &lt;meta name=&quot;viewport&quot; content=&quot;width=device-width,\n",
       "                initial-scale=1.0, maximum-scale=1.0, user-scalable=no&quot; /&gt;\n",
       "            &lt;style&gt;\n",
       "                #map_287963d55d9ede27e70ca9b781ac0285 {\n",
       "                    position: relative;\n",
       "                    width: 100.0%;\n",
       "                    height: 100.0%;\n",
       "                    left: 0.0%;\n",
       "                    top: 0.0%;\n",
       "                }\n",
       "                .leaflet-container { font-size: 1rem; }\n",
       "            &lt;/style&gt;\n",
       "        \n",
       "&lt;/head&gt;\n",
       "&lt;body&gt;\n",
       "    \n",
       "    \n",
       "            &lt;div class=&quot;folium-map&quot; id=&quot;map_287963d55d9ede27e70ca9b781ac0285&quot; &gt;&lt;/div&gt;\n",
       "        \n",
       "&lt;/body&gt;\n",
       "&lt;script&gt;\n",
       "    \n",
       "    \n",
       "            var map_287963d55d9ede27e70ca9b781ac0285 = L.map(\n",
       "                &quot;map_287963d55d9ede27e70ca9b781ac0285&quot;,\n",
       "                {\n",
       "                    center: [-6.2, 106.85],\n",
       "                    crs: L.CRS.EPSG3857,\n",
       "                    zoom: 11,\n",
       "                    zoomControl: true,\n",
       "                    preferCanvas: false,\n",
       "                }\n",
       "            );\n",
       "\n",
       "            \n",
       "\n",
       "        \n",
       "    \n",
       "            var tile_layer_db889fdea8ab82640e95adbabcdf2381 = L.tileLayer(\n",
       "                &quot;https://tile.openstreetmap.org/{z}/{x}/{y}.png&quot;,\n",
       "                {&quot;attribution&quot;: &quot;\\u0026copy; \\u003ca href=\\&quot;https://www.openstreetmap.org/copyright\\&quot;\\u003eOpenStreetMap\\u003c/a\\u003e contributors&quot;, &quot;detectRetina&quot;: false, &quot;maxNativeZoom&quot;: 19, &quot;maxZoom&quot;: 19, &quot;minZoom&quot;: 0, &quot;noWrap&quot;: false, &quot;opacity&quot;: 1, &quot;subdomains&quot;: &quot;abc&quot;, &quot;tms&quot;: false}\n",
       "            );\n",
       "        \n",
       "    \n",
       "            tile_layer_db889fdea8ab82640e95adbabcdf2381.addTo(map_287963d55d9ede27e70ca9b781ac0285);\n",
       "        \n",
       "    \n",
       "            var marker_651b50136c12de2930846606d64da273 = L.marker(\n",
       "                [-6.2154998779296875, 106.8030014038086],\n",
       "                {}\n",
       "            ).addTo(map_287963d55d9ede27e70ca9b781ac0285);\n",
       "        \n",
       "    \n",
       "            var icon_a2e7b34ed321bb5e97d19eeceb1ec56a = L.AwesomeMarkers.icon(\n",
       "                {&quot;extraClasses&quot;: &quot;fa-rotate-0&quot;, &quot;icon&quot;: &quot;info-sign&quot;, &quot;iconColor&quot;: &quot;white&quot;, &quot;markerColor&quot;: &quot;red&quot;, &quot;prefix&quot;: &quot;glyphicon&quot;}\n",
       "            );\n",
       "            marker_651b50136c12de2930846606d64da273.setIcon(icon_a2e7b34ed321bb5e97d19eeceb1ec56a);\n",
       "        \n",
       "    \n",
       "            var marker_5f51a8d4488a7b45aa2b72d2d99371eb = L.marker(\n",
       "                [-6.2154998779296875, 106.8030014038086],\n",
       "                {}\n",
       "            ).addTo(map_287963d55d9ede27e70ca9b781ac0285);\n",
       "        \n",
       "    \n",
       "            var div_icon_24ecd1ad94987b4da7dde555c613bc88 = L.divIcon({&quot;className&quot;: &quot;empty&quot;, &quot;html&quot;: &quot;\\u003cdiv style=\\&quot;font-size: 12px; color: black; font-weight: bold; background-color: white; padding: 8px 16px 8px 8px; border: 1px solid black; border-radius: 10px; min-width: 220px; text-align: center;\\&quot;\\u003eJakarta GBK\\u003cbr\\u003eAQI: 131\\u003c/div\\u003e&quot;});\n",
       "            marker_5f51a8d4488a7b45aa2b72d2d99371eb.setIcon(div_icon_24ecd1ad94987b4da7dde555c613bc88);\n",
       "        \n",
       "    \n",
       "            var marker_5c40d2df8db450c7b7fc7dc746ff2932 = L.marker(\n",
       "                [-6.280048383, 106.79944217205],\n",
       "                {}\n",
       "            ).addTo(map_287963d55d9ede27e70ca9b781ac0285);\n",
       "        \n",
       "    \n",
       "            var icon_9ac97fa7860382ea51bdcc61c511d29f = L.AwesomeMarkers.icon(\n",
       "                {&quot;extraClasses&quot;: &quot;fa-rotate-0&quot;, &quot;icon&quot;: &quot;info-sign&quot;, &quot;iconColor&quot;: &quot;white&quot;, &quot;markerColor&quot;: &quot;green&quot;, &quot;prefix&quot;: &quot;glyphicon&quot;}\n",
       "            );\n",
       "            marker_5c40d2df8db450c7b7fc7dc746ff2932.setIcon(icon_9ac97fa7860382ea51bdcc61c511d29f);\n",
       "        \n",
       "    \n",
       "            var marker_fb6d7df88955ff91c6a26f43d77d970f = L.marker(\n",
       "                [-6.280048383, 106.79944217205],\n",
       "                {}\n",
       "            ).addTo(map_287963d55d9ede27e70ca9b781ac0285);\n",
       "        \n",
       "    \n",
       "            var div_icon_a52f4f710fd869195da9a094b32b756a = L.divIcon({&quot;className&quot;: &quot;empty&quot;, &quot;html&quot;: &quot;\\u003cdiv style=\\&quot;font-size: 12px; color: black; font-weight: bold; background-color: white; padding: 8px 16px 8px 8px; border: 1px solid black; border-radius: 10px; min-width: 220px; text-align: center;\\&quot;\\u003eJalan BDN II, South Jakarta\\u003cbr\\u003eAQI: 83\\u003c/div\\u003e&quot;});\n",
       "            marker_fb6d7df88955ff91c6a26f43d77d970f.setIcon(div_icon_a52f4f710fd869195da9a094b32b756a);\n",
       "        \n",
       "    \n",
       "            var marker_091d4aa4c959776a2a4667d067db2927 = L.marker(\n",
       "                [-6.1603721, 106.8473377],\n",
       "                {}\n",
       "            ).addTo(map_287963d55d9ede27e70ca9b781ac0285);\n",
       "        \n",
       "    \n",
       "            var icon_5db04f756afd2d8de62c40acbada72e0 = L.AwesomeMarkers.icon(\n",
       "                {&quot;extraClasses&quot;: &quot;fa-rotate-0&quot;, &quot;icon&quot;: &quot;info-sign&quot;, &quot;iconColor&quot;: &quot;white&quot;, &quot;markerColor&quot;: &quot;red&quot;, &quot;prefix&quot;: &quot;glyphicon&quot;}\n",
       "            );\n",
       "            marker_091d4aa4c959776a2a4667d067db2927.setIcon(icon_5db04f756afd2d8de62c40acbada72e0);\n",
       "        \n",
       "    \n",
       "            var marker_f3534a4990799f7da150d606826d10ff = L.marker(\n",
       "                [-6.1603721, 106.8473377],\n",
       "                {}\n",
       "            ).addTo(map_287963d55d9ede27e70ca9b781ac0285);\n",
       "        \n",
       "    \n",
       "            var div_icon_df23878eaaf37647ac735b51d2e1dbad = L.divIcon({&quot;className&quot;: &quot;empty&quot;, &quot;html&quot;: &quot;\\u003cdiv style=\\&quot;font-size: 12px; color: black; font-weight: bold; background-color: white; padding: 8px 16px 8px 8px; border: 1px solid black; border-radius: 10px; min-width: 220px; text-align: center;\\&quot;\\u003eKemayoran, Jakarta Pusat\\u003cbr\\u003eAQI: 175\\u003c/div\\u003e&quot;});\n",
       "            marker_f3534a4990799f7da150d606826d10ff.setIcon(div_icon_df23878eaaf37647ac735b51d2e1dbad);\n",
       "        \n",
       "    \n",
       "            var marker_18faafa5194ca19620f28658b4535e1e = L.marker(\n",
       "                [-6.096574, 106.961349],\n",
       "                {}\n",
       "            ).addTo(map_287963d55d9ede27e70ca9b781ac0285);\n",
       "        \n",
       "    \n",
       "            var icon_59360aaf65836eb76be765a027066c3a = L.AwesomeMarkers.icon(\n",
       "                {&quot;extraClasses&quot;: &quot;fa-rotate-0&quot;, &quot;icon&quot;: &quot;info-sign&quot;, &quot;iconColor&quot;: &quot;white&quot;, &quot;markerColor&quot;: &quot;red&quot;, &quot;prefix&quot;: &quot;glyphicon&quot;}\n",
       "            );\n",
       "            marker_18faafa5194ca19620f28658b4535e1e.setIcon(icon_59360aaf65836eb76be765a027066c3a);\n",
       "        \n",
       "    \n",
       "            var marker_a9d1e80da06d9454e926e7232f41525e = L.marker(\n",
       "                [-6.096574, 106.961349],\n",
       "                {}\n",
       "            ).addTo(map_287963d55d9ede27e70ca9b781ac0285);\n",
       "        \n",
       "    \n",
       "            var div_icon_97df85b159c72985e97b4bdca92f71a8 = L.divIcon({&quot;className&quot;: &quot;empty&quot;, &quot;html&quot;: &quot;\\u003cdiv style=\\&quot;font-size: 12px; color: black; font-weight: bold; background-color: white; padding: 8px 16px 8px 8px; border: 1px solid black; border-radius: 10px; min-width: 220px; text-align: center;\\&quot;\\u003eMarunda, Jakarta Utara\\u003cbr\\u003eAQI: 111\\u003c/div\\u003e&quot;});\n",
       "            marker_a9d1e80da06d9454e926e7232f41525e.setIcon(div_icon_97df85b159c72985e97b4bdca92f71a8);\n",
       "        \n",
       "    \n",
       "            var marker_cc686a429b5ad8ee0ada97ac9344437b = L.marker(\n",
       "                [-6.236704, 106.79324],\n",
       "                {}\n",
       "            ).addTo(map_287963d55d9ede27e70ca9b781ac0285);\n",
       "        \n",
       "    \n",
       "            var icon_03b3a46b9f56f7eaa085067a0cc08adf = L.AwesomeMarkers.icon(\n",
       "                {&quot;extraClasses&quot;: &quot;fa-rotate-0&quot;, &quot;icon&quot;: &quot;info-sign&quot;, &quot;iconColor&quot;: &quot;white&quot;, &quot;markerColor&quot;: &quot;red&quot;, &quot;prefix&quot;: &quot;glyphicon&quot;}\n",
       "            );\n",
       "            marker_cc686a429b5ad8ee0ada97ac9344437b.setIcon(icon_03b3a46b9f56f7eaa085067a0cc08adf);\n",
       "        \n",
       "    \n",
       "            var marker_e629c94abc4eb8fc41c36d593932e617 = L.marker(\n",
       "                [-6.236704, 106.79324],\n",
       "                {}\n",
       "            ).addTo(map_287963d55d9ede27e70ca9b781ac0285);\n",
       "        \n",
       "    \n",
       "            var div_icon_07c220e3328288da6e300b0239412949 = L.divIcon({&quot;className&quot;: &quot;empty&quot;, &quot;html&quot;: &quot;\\u003cdiv style=\\&quot;font-size: 12px; color: black; font-weight: bold; background-color: white; padding: 8px 16px 8px 8px; border: 1px solid black; border-radius: 10px; min-width: 220px; text-align: center;\\&quot;\\u003eSouth Jakarta\\u003cbr\\u003eAQI: 107\\u003c/div\\u003e&quot;});\n",
       "            marker_e629c94abc4eb8fc41c36d593932e617.setIcon(div_icon_07c220e3328288da6e300b0239412949);\n",
       "        \n",
       "    \n",
       "            tile_layer_db889fdea8ab82640e95adbabcdf2381.addTo(map_287963d55d9ede27e70ca9b781ac0285);\n",
       "        \n",
       "&lt;/script&gt;\n",
       "&lt;/html&gt;\" style=\"position:absolute;width:100%;height:100%;left:0;top:0;border:none !important;\" allowfullscreen webkitallowfullscreen mozallowfullscreen></iframe></div></div>"
      ],
      "text/plain": [
       "<folium.folium.Map at 0x2487301f620>"
      ]
     },
     "metadata": {},
     "output_type": "display_data"
    }
   ],
   "source": [
    "\n",
    "display(jakarta_map)\n"
   ]
  }
 ],
 "metadata": {
  "kernelspec": {
   "display_name": "Python 3",
   "language": "python",
   "name": "python3"
  },
  "language_info": {
   "codemirror_mode": {
    "name": "ipython",
    "version": 3
   },
   "file_extension": ".py",
   "mimetype": "text/x-python",
   "name": "python",
   "nbconvert_exporter": "python",
   "pygments_lexer": "ipython3",
   "version": "3.12.2"
  }
 },
 "nbformat": 4,
 "nbformat_minor": 2
}
